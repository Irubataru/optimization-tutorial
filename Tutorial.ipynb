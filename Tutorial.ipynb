{
 "cells": [
  {
   "cell_type": "markdown",
   "metadata": {
    "collapsed": false,
    "pycharm": {
     "name": "#%% md\n"
    }
   },
   "source": [
    "# Optimizing your cloud\n",
    "\n",
    "In this tutorial we will try to optimize our cloud storage, and in the process explore some concepts and methods in the\n",
    "field of optimization. We will look at brute force methods, simple heuristics, an iterative approach, and model\n",
    "building.\n",
    "\n",
    "After your computer got infected with ransomware, and you had to pay a hefty sum of money to send **haxxorKid420** a\n",
    "weirdly over prized picture of a green frog that apparently resides on the \"blockchain\", you decide it is time to\n",
    "finally get around to backing up your files. There is too much hassle with buying hard drives and scheduling automatic\n",
    "backups, and there is a sale on this new could storage service that spun up last week that you decide to check out. They\n",
    "have a free plan with up to 1GB of storage, however, you have more than 1GB of data to back up, so what do you do? There\n",
    "is definitely some data you don't need, so let's try to find out what to keep and not.\n",
    "\n",
    "You start by cataloging your data, assigning value to the different folders on your computer and calculating their\n",
    "sizes."
   ]
  },
  {
   "cell_type": "code",
   "execution_count": null,
   "metadata": {
    "pycharm": {
     "name": "#%%\n"
    }
   },
   "outputs": [],
   "source": [
    "from selection import Item, Selection\n",
    "\n",
    "directories = [Item(\"system files\", 423, 5), Item(\"documents\", 57, 7), Item(\"pictures\", 209, 10), Item(\"music\", 114, 5),\n",
    "               Item(\"videos\", 856, 7), Item(\"games\", 342, 5), Item(\"talks\", 74, 10), Item(\"image files\", 33, 5),\n",
    "               Item(\"dotfiles\", 2, 8), Item(\"university notes\", 24, 5), Item(\"Outlook mailboxes\", 156, 3),\n",
    "               Item(\".temp\", 48, 1), ]"
   ]
  },
  {
   "cell_type": "markdown",
   "metadata": {
    "collapsed": false,
    "pycharm": {
     "name": "#%% md\n"
    }
   },
   "source": [
    "## The brute force approach\n",
    "\n",
    "Now is the question of how to go about finding the optimal selection of directories that fit on your cloud storage\n",
    "plan. The simplest is obviously to simply check every combination and select the one that has the highest value."
   ]
  },
  {
   "cell_type": "code",
   "execution_count": null,
   "metadata": {
    "pycharm": {
     "name": "#%%\n"
    }
   },
   "outputs": [],
   "source": [
    "from collections.abc import Iterator\n",
    "from wrappers import timed_method\n",
    "\n",
    "\n",
    "def enumerate_selections(count: int) -> Iterator[list[bool]]:\n",
    "    \"\"\"\n",
    "    Enumerate all possible selections of a given number of items. Each enumeration is represented as a bit mask where\n",
    "    a True means the item is included and a False means it isn't.\n",
    "\n",
    "    Args:\n",
    "        count: The number of items.\n",
    "\n",
    "    Returns:\n",
    "        An iteration of enumerations. Each enumeration has length count.\n",
    "\n",
    "    \"\"\"\n",
    "\n",
    "    def enumerate(items: list[bool], index: int) -> Iterator[list[bool]]:\n",
    "        \"\"\"\n",
    "        Recursive helper function for the method.\n",
    "        \"\"\"\n",
    "\n",
    "        if index == len(items):\n",
    "            yield items\n",
    "        else:\n",
    "            yield from enumerate(items.copy(), index + 1)\n",
    "            items = items.copy()\n",
    "            items[index] = True\n",
    "            yield from enumerate(items, index + 1)\n",
    "\n",
    "    yield from enumerate([False] * count, 0)\n",
    "\n",
    "\n",
    "@timed_method\n",
    "def brute_force(items: list[Item], capacity: float) -> Selection:\n",
    "    \"\"\"\n",
    "    Compute the best selection of files by checking every possible selection and choosing the one with the highest\n",
    "    score.\n",
    "\n",
    "    Args:\n",
    "        items: The items to select from.\n",
    "        capacity: The capacity of the cloud storage.\n",
    "    \"\"\"\n",
    "\n",
    "    def get_size(selection: list[bool]) -> float:\n",
    "        \"\"\"\n",
    "        Compute the size of the files with the given selection.\n",
    "        \"\"\"\n",
    "\n",
    "        size = 0.0\n",
    "\n",
    "        for (i, item) in enumerate(items):\n",
    "            if selection[i]:\n",
    "                size += item.size\n",
    "\n",
    "        return size\n",
    "\n",
    "    def get_score(selection: list[bool]):\n",
    "        \"\"\"\n",
    "        Compute the score of the given selection.\n",
    "        \"\"\"\n",
    "\n",
    "        score = 0.0\n",
    "\n",
    "        for (i, item) in enumerate(items):\n",
    "            if selection[i]:\n",
    "                score += item.value\n",
    "\n",
    "        return score\n",
    "\n",
    "    best_score = 0.0\n",
    "    best_selection: list[bool] = []\n",
    "\n",
    "    for selection in enumerate_selections(len(items)):\n",
    "\n",
    "        if (get_size(selection)) > capacity:\n",
    "            continue\n",
    "\n",
    "        score = get_score(selection)\n",
    "\n",
    "        if score > best_score:\n",
    "            best_score = score\n",
    "            best_selection = selection\n",
    "\n",
    "    return Selection.from_mask(items, best_selection)\n"
   ]
  },
  {
   "cell_type": "code",
   "execution_count": null,
   "metadata": {
    "pycharm": {
     "name": "#%%\n"
    }
   },
   "outputs": [],
   "source": [
    "solution_brute_force = brute_force(directories, 1024)\n",
    "print(solution_brute_force)"
   ]
  },
  {
   "cell_type": "markdown",
   "metadata": {
    "collapsed": false,
    "pycharm": {
     "name": "#%% md\n"
    }
   },
   "source": [
    "## A simple (greedy) heuristic\n",
    "\n",
    "Alright, that worked, and obviously gave us the best solution, but the method isn't very satisfying. There has to be a\n",
    "better and more efficient way of doing this.\n",
    "\n",
    "What if we always add the current best single item and keep doing that until we have filled up our storage? This is\n",
    "what is called a \"greedy (construction) heuristic\".\n",
    "\n",
    "❓ _What defines the best item?_"
   ]
  },
  {
   "cell_type": "code",
   "execution_count": null,
   "metadata": {
    "pycharm": {
     "name": "#%%\n"
    }
   },
   "outputs": [],
   "source": [
    "@timed_method\n",
    "def greedy_heuristic(items: list[Item], capacity: float) -> Selection:\n",
    "    \"\"\"\n",
    "    Estimate the best selection of files by selecting files with a high value to size ratio until the storage is full.\n",
    "\n",
    "    Args:\n",
    "        items: The items to select from.\n",
    "        capacity: The capacity of the cloud storage.\n",
    "    \"\"\"\n",
    "    selection = [False] * len(items)\n",
    "    weight = 0.0\n",
    "    full = False\n",
    "\n",
    "    while not full:\n",
    "\n",
    "        best_idx = -1\n",
    "        best_ratio = 0\n",
    "\n",
    "        for (i, item) in enumerate(items):\n",
    "            if selection[i]:\n",
    "                continue\n",
    "            if weight + item.size > capacity:\n",
    "                continue\n",
    "\n",
    "            ratio = item.value / item.size\n",
    "\n",
    "            if ratio > best_ratio:\n",
    "                best_idx = i\n",
    "                best_ratio = ratio\n",
    "\n",
    "        if best_idx == -1:\n",
    "            full = True\n",
    "        elif all(selection):\n",
    "            full = True\n",
    "\n",
    "        if full:\n",
    "            continue\n",
    "\n",
    "        selection[best_idx] = 1\n",
    "        weight += items[best_idx].size\n",
    "\n",
    "    return Selection.from_mask(items, selection)"
   ]
  },
  {
   "cell_type": "code",
   "execution_count": null,
   "metadata": {
    "pycharm": {
     "name": "#%%\n"
    }
   },
   "outputs": [],
   "source": [
    "solution_greedy = greedy_heuristic(directories, 1024)\n",
    "print(solution_greedy)"
   ]
  },
  {
   "cell_type": "markdown",
   "metadata": {
    "collapsed": false,
    "pycharm": {
     "name": "#%% md\n"
    }
   },
   "source": [
    "## Random restart\n",
    "\n",
    "Even though that gave a pretty good solution, we can see from our brute force attempt that it did not give us the best\n",
    "solution. However, it gave us a solution in a lot less time. So how about we introduce some randomness to our\n",
    "construction heuristic and then simply call it multiple times and select the best of them.\n",
    "\n",
    "❓ _How do we make our greedy heuristic random?_"
   ]
  },
  {
   "cell_type": "code",
   "execution_count": null,
   "metadata": {
    "pycharm": {
     "name": "#%%\n"
    }
   },
   "outputs": [],
   "source": [
    "import random\n",
    "from typing import Callable, Any\n",
    "\n",
    "\n",
    "def greedy_construction_heuristic(items: list[Item], capacity: float) -> Selection:\n",
    "    \"\"\"\n",
    "    A variation of greedy_heuristic that introduces some randomness to the selection process. Instead of simply\n",
    "    choosing the element with the highest value to size ratio it chooses randomly weighted by that ratio.\n",
    "\n",
    "    Args:\n",
    "        items: The items to select from.\n",
    "        capacity: The capacity of the cloud storage.\n",
    "    \"\"\"\n",
    "\n",
    "    selection = [False] * len(items)\n",
    "    size = 0.0\n",
    "\n",
    "    def get_random_item() -> (int, Item):\n",
    "        \"\"\"\n",
    "        Select a random item from the remaining ones that fit on the cloud storage weighted by how good it is.\n",
    "\n",
    "        Returns:\n",
    "            The index of the item and the item itself.\n",
    "        \"\"\"\n",
    "\n",
    "        p = [0.0] * len(items)\n",
    "        has_any = False\n",
    "\n",
    "        for (index, item) in enumerate(items):\n",
    "            if selection[index]:\n",
    "                continue\n",
    "            if size + item.size > capacity:\n",
    "                continue\n",
    "\n",
    "            p[index] = item.value / item.size\n",
    "            has_any = True\n",
    "\n",
    "        if not has_any:\n",
    "            return -1, None\n",
    "\n",
    "        selected_idx = random.choices(range(len(items)), p, k=1)[0]\n",
    "        return selected_idx, items[selected_idx]\n",
    "\n",
    "    while True:\n",
    "\n",
    "        (index, item) = get_random_item()\n",
    "\n",
    "        if index == -1:\n",
    "            break;\n",
    "\n",
    "        selection[index] = True\n",
    "        size += item.size\n",
    "\n",
    "    return Selection.from_mask(items, selection)\n",
    "\n",
    "\n",
    "Heuristic_Method = Callable[[list[Item], float], Selection]\n",
    "\n",
    "\n",
    "@timed_method\n",
    "def random_restart(items: list[Item], capacity: float, iterations: int,\n",
    "                   heuristic: Heuristic_Method = greedy_construction_heuristic) -> Selection:\n",
    "    \"\"\"\n",
    "    Estimate the best selection of files by randomly trying out different solutions and choosing the best one.\n",
    "\n",
    "    Args:\n",
    "        items: The items to select from.\n",
    "        capacity: The capacity of the cloud storage.\n",
    "        iterations: The number of random restarts to do.\n",
    "        heuristic: The construction heuristic to use for every attempt.\n",
    "    \"\"\"\n",
    "    best_score = 0\n",
    "    best_solution = None\n",
    "\n",
    "    for itt in range(iterations):\n",
    "\n",
    "        solution = heuristic(items, capacity)\n",
    "\n",
    "        if solution.score() > best_score:\n",
    "            best_score = solution.score()\n",
    "            best_solution = solution\n",
    "\n",
    "    return best_solution"
   ]
  },
  {
   "cell_type": "code",
   "execution_count": null,
   "metadata": {
    "pycharm": {
     "name": "#%%\n"
    }
   },
   "outputs": [],
   "source": [
    "solution_random_restart = random_restart(directories, 1024, 100)\n",
    "print(solution_random_restart)"
   ]
  },
  {
   "cell_type": "markdown",
   "metadata": {
    "collapsed": false,
    "pycharm": {
     "name": "#%% md\n"
    }
   },
   "source": [
    "## Ruin and recreate\n",
    "\n",
    "Instead of starting from scratch at every iteration it should also be possible to start from a solution and then change\n",
    "it by a small amount and see if the solution improves. One such approach is called \"ruin and recreate\", and as the name\n",
    "implies it is a simple approach where you first destroy your solution and then rebuild it, hopefully in a way that gives\n",
    "a different solution to the one you had before.\n",
    "\n",
    "❓ _What are good ruin and recreate operators?_"
   ]
  },
  {
   "cell_type": "code",
   "execution_count": null,
   "metadata": {
    "pycharm": {
     "name": "#%%\n"
    }
   },
   "outputs": [],
   "source": [
    "@timed_method\n",
    "def ruin_and_recreate(items: list[Item], capacity: float, iterations: int):\n",
    "    \"\"\"\n",
    "    Estimate the best selection of files by alternately destroying and fixing an existing solution in the hopes of\n",
    "    getting a better one.\n",
    "\n",
    "    Args:\n",
    "        items: The items to select from.\n",
    "        capacity: The capacity of the cloud storage.\n",
    "        iterations: The number of ruin & recreate steps to carry out.\n",
    "    \"\"\"\n",
    "\n",
    "    def rr_ruin(solution: Selection) -> (Selection, list[Item]):\n",
    "        \"\"\"\n",
    "        The ruin operator, removes elements from the provided selection.\n",
    "\n",
    "        Args:\n",
    "            solution: The selection to remove elements from\n",
    "\n",
    "        Returns:\n",
    "            A copy of the solution with fewer elements and the list of elements that were removed.\n",
    "        \"\"\"\n",
    "        copy = solution.copy()\n",
    "\n",
    "        removed_items = []\n",
    "        for i in range(3):\n",
    "            removed_index = random.randrange(len(copy.items))\n",
    "            removed_items.append(copy.items.pop(removed_index))\n",
    "\n",
    "        return copy, removed_items\n",
    "\n",
    "    def rr_recreate(solution: Selection, removed: list[Item]) -> Selection:\n",
    "        \"\"\"\n",
    "        Fixes a ruined solution by adding random elements back to it.\n",
    "\n",
    "        Args:\n",
    "            solution: The ruined solution to fix.\n",
    "            removed: The elements that were removed by the ruin operator.\n",
    "\n",
    "        Returns:\n",
    "            A solution with more elements than the one provided.\n",
    "        \"\"\"\n",
    "\n",
    "        def get_random_item() -> Item:\n",
    "            \"\"\"\n",
    "            Selects a random element not in the selection weighted by the value to size ratio.\n",
    "            \"\"\"\n",
    "            available = []\n",
    "            for item in items:\n",
    "                if item in solution.items:\n",
    "                    continue\n",
    "                elif item.size + solution.size() > capacity:\n",
    "                    continue\n",
    "\n",
    "                available.append(item)\n",
    "\n",
    "            if len(available) == 0:\n",
    "                return None\n",
    "\n",
    "            return random.choices(available, [x.value / x.size for x in available], k=1)[0]\n",
    "\n",
    "        while True:\n",
    "            item = get_random_item()\n",
    "\n",
    "            if item is None:\n",
    "                break\n",
    "\n",
    "            solution.items.append(item)\n",
    "\n",
    "        return solution\n",
    "\n",
    "    def rr_operation(solution: Selection) -> Selection:\n",
    "        \"\"\"\n",
    "        The ruin then recreate cycle.\n",
    "        \"\"\"\n",
    "        ruined_solution, removed_items = rr_ruin(solution)\n",
    "        return rr_recreate(ruined_solution, removed_items)\n",
    "\n",
    "    solution = greedy_construction_heuristic(items, capacity)\n",
    "\n",
    "    for i in range(iterations):\n",
    "\n",
    "        test_solution = rr_operation(solution)\n",
    "\n",
    "        if test_solution.score() > solution.score():\n",
    "            solution = test_solution\n",
    "\n",
    "    return test_solution\n"
   ]
  },
  {
   "cell_type": "code",
   "execution_count": null,
   "metadata": {
    "pycharm": {
     "name": "#%%\n"
    }
   },
   "outputs": [],
   "source": [
    "solution_ruin_recreate = ruin_and_recreate(directories, 1024, 100)\n",
    "print(solution_ruin_recreate)"
   ]
  },
  {
   "cell_type": "markdown",
   "metadata": {
    "collapsed": false,
    "pycharm": {
     "name": "#%% md\n"
    }
   },
   "source": [
    "## Selecting files\n",
    "\n",
    "Things are looking up, and we have multiple ways of finding the best selection of directories to put on our cloud\n",
    "storage, but why stop there? If we can choose the best folders why not choose the best files instead? Although it is a\n",
    "bit tedious, you list all the files on your system and gives them a score on how valuable they are to you and store that\n",
    "in a table. Now it is time to run it through our algorithms and see the optimal selection of files."
   ]
  },
  {
   "cell_type": "code",
   "execution_count": null,
   "metadata": {
    "pycharm": {
     "name": "#%%\n"
    }
   },
   "outputs": [],
   "source": [
    "files = Item.from_csv('data/files.csv')\n",
    "print(f\"{len(files)} files, {round(sum([x.size for x in files]))}MB\")"
   ]
  },
  {
   "cell_type": "code",
   "execution_count": null,
   "metadata": {
    "pycharm": {
     "name": "#%%\n"
    }
   },
   "outputs": [],
   "source": [
    "print(f\"{float(2 ** len(files))} permutations\")\n",
    "# solution_files_brute_force = brute_force(files, 1024)"
   ]
  },
  {
   "cell_type": "code",
   "execution_count": null,
   "metadata": {
    "pycharm": {
     "name": "#%%\n"
    }
   },
   "outputs": [],
   "source": [
    "solution_files_greedy = greedy_heuristic(files, 1024)\n",
    "print(solution_files_greedy)"
   ]
  },
  {
   "cell_type": "code",
   "execution_count": null,
   "metadata": {
    "pycharm": {
     "name": "#%%\n"
    }
   },
   "outputs": [],
   "source": [
    "solution_files_restart = random_restart(files, 1024, 100)\n",
    "print(solution_files_restart)"
   ]
  },
  {
   "cell_type": "markdown",
   "metadata": {
    "collapsed": false,
    "pycharm": {
     "name": "#%% md\n"
    }
   },
   "source": [
    "## Modelling and optimzation libraries\n",
    "\n",
    "As this isn't the first time you have coded something there has been a thought nagging at the back of your mind for the\n",
    "past couple of minutes, and that is: \"there has to be a library for this\". After a bit of searching you come across\n",
    "[pyomo](http://www.pyomo.org) which seems to provide the tools you need. Pyomo is a modelling framework that then sends\n",
    "your optimization problem to an optimization solver.\n",
    "\n",
    "Reading the documentation we find out how pyomo works and starts building a model of our optimization problem."
   ]
  },
  {
   "cell_type": "code",
   "execution_count": null,
   "metadata": {
    "pycharm": {
     "name": "#%%\n"
    }
   },
   "outputs": [],
   "source": [
    "from pyomo.environ import ConcreteModel, Var, Objective, Constraint, Set, quicksum\n",
    "import pyomo.environ as pyo\n",
    "\n",
    "ModelFactory = Callable[[list[Item], int], ConcreteModel]\n",
    "\n",
    "\n",
    "def create_model(items: list[Item], capacity: int) -> ConcreteModel:\n",
    "    \"\"\"\n",
    "    Create a pyomo model from the list of possible items to put on the cloud.\n",
    "\n",
    "    Args:\n",
    "        items: The items to select from.\n",
    "        capacity: The capacity of the cloud storage.\n",
    "    \"\"\"\n",
    "    model = ConcreteModel()\n",
    "\n",
    "    # For simplicity, we convert the list of items to a dictionary for easier use\n",
    "    itemdict = Item.to_dict(items)\n",
    "\n",
    "    # First define our optimization variables, the variable names are given by the filename, and the variables\n",
    "    # themselves are binary, either they are included or they are not\n",
    "    model.filenames = Set(initialize=[item.name for item in items])\n",
    "    model.files = Var(model.filenames, within=pyo.Binary)\n",
    "\n",
    "    # The mease of how well we are doing, the objective, is simply the sum of all the values\n",
    "    model.score = Objective(expr=quicksum([model.files[name] * itemdict[name].value for name in model.filenames]),\n",
    "                            sense=pyo.maximize)\n",
    "\n",
    "    # Finally, we define the constraint, that the selection of items have to fit on the cloud\n",
    "    model.restriction = Constraint(\n",
    "        expr=quicksum([model.files[name] * itemdict[name].size for name in model.filenames]) <= capacity)\n",
    "\n",
    "    return model\n",
    "\n",
    "\n",
    "@timed_method\n",
    "def solve_pyomo(items: list[Item], capacity: int, solver: str, model_factory: ModelFactory = create_model) -> (\n",
    "        Selection, ConcreteModel):\n",
    "    \"\"\"\n",
    "    Calculate the best selection of files to put in your cloud storage using the pyomo framework as a solver.\n",
    "\n",
    "    Args:\n",
    "        items: The items to select from.\n",
    "        capacity: The capacity of the cloud storage.\n",
    "        solver: The solver to use to solve the optimization problem\n",
    "        model_factory: A method that constructs a mathematical model from our variables\n",
    "\n",
    "    Returns:\n",
    "        The solution to the optimization problem as well as the model for inspection\n",
    "    \"\"\"\n",
    "    model = model_factory(items, capacity)\n",
    "    opt = pyo.SolverFactory(solver)\n",
    "\n",
    "    solution_state = opt.solve(model)\n",
    "\n",
    "    solution = Selection([])\n",
    "    for item in items:\n",
    "        if round(pyo.value(model.files[item.name])) == 1:\n",
    "            solution.items.append(item)\n",
    "\n",
    "    return solution, model\n"
   ]
  },
  {
   "cell_type": "markdown",
   "metadata": {
    "collapsed": false,
    "pycharm": {
     "name": "#%% md\n"
    }
   },
   "source": [
    "There are lots of solvers to choose from but most of them must be installed on the system before use. By running\n",
    "`pyomo help` we can see which solvers pyomo supports and which are available on the system.\n",
    "\n",
    "Pyomo is a general optimization framework and is not restricted to integer programs like this one. It is therefore\n",
    "important to choose a solver that works well for the problem."
   ]
  },
  {
   "cell_type": "code",
   "execution_count": null,
   "metadata": {
    "pycharm": {
     "name": "#%%\n"
    }
   },
   "outputs": [],
   "source": [
    "!pyomo help -s"
   ]
  },
  {
   "cell_type": "code",
   "execution_count": null,
   "metadata": {
    "pycharm": {
     "name": "#%%\n"
    }
   },
   "outputs": [],
   "source": [
    "solution_ipopt, model_ipopt = solve_pyomo(directories, 1024, 'ipopt')\n",
    "print(solution_ipopt)"
   ]
  },
  {
   "cell_type": "code",
   "execution_count": null,
   "metadata": {
    "pycharm": {
     "name": "#%%\n"
    }
   },
   "outputs": [],
   "source": [
    "model_ipopt.pprint()"
   ]
  },
  {
   "cell_type": "code",
   "execution_count": null,
   "metadata": {
    "pycharm": {
     "name": "#%%\n"
    }
   },
   "outputs": [],
   "source": [
    "solution_cbc, model_cbc = solve_pyomo(directories, 1024, 'cbc')\n",
    "print(solution_cbc)"
   ]
  },
  {
   "cell_type": "code",
   "execution_count": null,
   "metadata": {
    "pycharm": {
     "name": "#%%\n"
    }
   },
   "outputs": [],
   "source": [
    "model_cbc.pprint()"
   ]
  },
  {
   "cell_type": "code",
   "execution_count": null,
   "metadata": {
    "pycharm": {
     "name": "#%%\n"
    }
   },
   "outputs": [],
   "source": [
    "solution_glpk, _ = solve_pyomo(directories, 1024, 'glpk')\n",
    "print(solution_glpk)"
   ]
  },
  {
   "cell_type": "code",
   "execution_count": null,
   "metadata": {
    "pycharm": {
     "name": "#%%\n"
    }
   },
   "outputs": [],
   "source": [
    "solution_files_glpk, _ = solve_pyomo(files, 1024, 'glpk')\n",
    "print(solution_files_glpk)"
   ]
  },
  {
   "cell_type": "markdown",
   "metadata": {
    "collapsed": false,
    "pycharm": {
     "name": "#%% md\n"
    }
   },
   "source": [
    "## Additional constraints\n",
    "\n",
    "While you were telling your friend about your plan to back up your files on the cloud they got quite worried that you\n",
    "haven't considered the privacy issues you could potentially face doing this. How do you know that the company running\n",
    "this new and shiny can be trusted? Skimming their EULA it all seems good, but there is simply too much at risk.\n",
    "Ideally you should encrypt your information before uploading it to the cloud, but as this isn't a tutorial on\n",
    "encryption we have no idea how to do that, so we choose the second-best option. We want to limit the amount of\n",
    "identifying information saved in one location, and we define that the following way\n",
    "\n",
    "1. We can only have at most two of the following folders backed up\n",
    "   - `documents`\n",
    "   - `pictures`\n",
    "   - `Outlook mailboxes`\n",
    "2. We can only either back up `documents` or both `university documents` and `talks`\n",
    "\n",
    "❓ _How do we add these constraints to our model?_\n",
    "❓ _What about the previous approaches?_"
   ]
  },
  {
   "cell_type": "code",
   "execution_count": null,
   "metadata": {
    "pycharm": {
     "name": "#%%\n"
    }
   },
   "outputs": [],
   "source": [
    "def create_privacy_model(items: list[Item], capacity: int) -> ConcreteModel:\n",
    "    \"\"\"\n",
    "    Create an optimization model with additional privacy constraints, only works for the list of directories.\n",
    "    \"\"\"\n",
    "    model = create_model(items, capacity)\n",
    "\n",
    "    model.identifying_information = Constraint(\n",
    "        expr=model.files['documents'] + model.files['pictures'] + model.files['Outlook mailboxes'] <= 2)\n",
    "    model.one_set_of_documents = Constraint(\n",
    "        expr=model.files['documents'] + 0.5 * model.files['university notes'] + 0.5 * model.files['talks'] <= 1)\n",
    "\n",
    "    return model"
   ]
  },
  {
   "cell_type": "code",
   "execution_count": null,
   "metadata": {
    "pycharm": {
     "name": "#%%\n"
    }
   },
   "outputs": [],
   "source": [
    "solution_privacy, _ = solve_pyomo(directories, 1024, 'cbc', create_privacy_model)\n",
    "print('\\n', solution_privacy)"
   ]
  }
 ],
 "metadata": {
  "kernelspec": {
   "display_name": "Python 3",
   "language": "python",
   "name": "python3"
  },
  "language_info": {
   "codemirror_mode": {
    "name": "ipython",
    "version": 2
   },
   "file_extension": ".py",
   "mimetype": "text/x-python",
   "name": "python",
   "nbconvert_exporter": "python",
   "pygments_lexer": "ipython2",
   "version": "2.7.6"
  }
 },
 "nbformat": 4,
 "nbformat_minor": 0
}
